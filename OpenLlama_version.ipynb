{
 "cells": [
  {
   "cell_type": "code",
   "execution_count": null,
   "metadata": {},
   "outputs": [],
   "source": [
    "import textwrap\n",
    "import torch\n",
    "from transformers import LlamaForCausalLM, LlamaTokenizer\n",
    "from langchain import HuggingFaceHub\n",
    "from langchain.embeddings import HuggingFaceEmbeddings\n",
    "\n",
    "def print_response(response: str):\n",
    "    print(textwrap.fill(response, width=100))\n",
    "\n",
    "# Check if CUDA is available, otherwise use CPU\n",
    "DEVICE = \"cuda\" if torch.cuda.is_available() else \"cpu\"\n",
    "\n",
    "# Special token IDs\n",
    "BOS_TOKEN_ID = 1  # Beginning of sentence token ID\n",
    "EOS_TOKEN_ID = 2  # End of sentence token ID\n",
    "\n",
    "MAX_TOKENS = 1024  # Maximum number of tokens for generation\n",
    "\n",
    "# Path to the pre-trained model\n",
    "MODEL_NAME = \"/content/open_llama_7b_preview_300bt/open_llama_7b_preview_300bt_transformers_weights\"\n",
    "\n",
    "# Initialize the tokenizer\n",
    "tokenizer = LlamaTokenizer.from_pretrained(MODEL_NAME, add_prefix_space=True, add_special_tokens=True)\n",
    "\n",
    "# Initialize the model\n",
    "model = LlamaForCausalLM.from_pretrained(\n",
    "    MODEL_NAME, local_files_only=True, torch_dtype=torch.float32, device=DEVICE\n",
    ")\n",
    "\n",
    "# Set the BOS token ID and convert EOS token to its ID\n",
    "tokenizer.bos_token = tokenizer.eos_token\n",
    "tokenizer.eos_token = tokenizer.convert_tokens_to_ids(tokenizer.eos_token)\n",
    "\n",
    "# Initialize HuggingFaceHub and HuggingFaceEmbeddings\n",
    "hub = HuggingFaceHub()\n",
    "embeddings = HuggingFaceEmbeddings(hub, model_name=\"openllama\")\n",
    "\n",
    "def generate_response(query):\n",
    "    # Encode the user query using the tokenizer and move to the appropriate device\n",
    "    input_ids = tokenizer.encode(query, add_special_tokens=False, return_tensors=\"pt\").to(DEVICE)\n",
    "    \n",
    "    # Predict the language of the input query using HuggingFaceEmbeddings\n",
    "    lang_id = embeddings.predict_language(query)\n",
    "\n",
    "    with torch.no_grad():\n",
    "        # Generate the response using the model\n",
    "        output_token_ids = model.generate(\n",
    "            input_ids=input_ids,\n",
    "            max_length=MAX_TOKENS,\n",
    "            pad_token_id=tokenizer.eos_token_id,\n",
    "            num_return_sequences=1,\n",
    "        )\n",
    "\n",
    "    # Decode the generated output into text, skipping special tokens and cleaning up tokenization spaces\n",
    "    response = tokenizer.decode(output_token_ids[0], skip_special_tokens=True, clean_up_tokenization_spaces=True)\n",
    "    return response\n",
    "\n",
    "# Main chat loop\n",
    "while True:\n",
    "    user_input = input(\"User: \")\n",
    "    if user_input.lower() in [\"quit\", \"exit\"]:\n",
    "        break\n",
    "\n",
    "    # Generate response based on user input\n",
    "    response = generate_response(user_input)\n",
    "    print_response(\"ChatBot: \" + response)\n"
   ]
  }
 ],
 "metadata": {
  "kernelspec": {
   "display_name": "Python 3.7.7 ('base')",
   "language": "python",
   "name": "python3"
  },
  "language_info": {
   "codemirror_mode": {
    "name": "ipython",
    "version": 3
   },
   "file_extension": ".py",
   "mimetype": "text/x-python",
   "name": "python",
   "nbconvert_exporter": "python",
   "pygments_lexer": "ipython3",
   "version": "3.7.7"
  },
  "orig_nbformat": 4,
  "vscode": {
   "interpreter": {
    "hash": "6578608f989f634a358eb2d88ad58406659ac7ccc5a5ec02ec47c996eb86113e"
   }
  }
 },
 "nbformat": 4,
 "nbformat_minor": 2
}
